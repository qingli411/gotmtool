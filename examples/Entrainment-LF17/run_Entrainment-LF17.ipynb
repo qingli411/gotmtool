{
 "cells": [
  {
   "cell_type": "markdown",
   "metadata": {},
   "source": [
    "# Entrainment-LF17\n",
    "\n",
    "This notebook runs [GOTM](https://gotm.net/) simulating the entrainment of an initial mixed layer under various constant wind, waves, and destabilizing surface buoyancy flux forcing as described in [Li and Fox-Kemper, 2017](https://doi.org/10.1175/JPO-D-17-0085.1) (LF17). The idealized initial conditions and surface forcing are consisten with the LES in LF17 so the results are directly comparable. See Section 3.3 and 4.4.1 of [Li et al., 2019](https://doi.org/10.1029/2019MS001810).\n",
    "\n",
    "Note that this notebook will setup 54 GOTM runs for each chosen turbulence closure method, which take up to 500 MB space.  "
   ]
  },
  {
   "cell_type": "code",
   "execution_count": null,
   "metadata": {},
   "outputs": [],
   "source": [
    "import sys\n",
    "import copy\n",
    "import numpy as np\n",
    "import pandas as pd\n",
    "import matplotlib.pyplot as plt\n",
    "sys.path.append(\"../../../gotmtool\")\n",
    "from gotmtool import *\n",
    "from gotmtool.stokesdrift import stokes_drift_dhh85"
   ]
  },
  {
   "cell_type": "markdown",
   "metadata": {},
   "source": [
    "## Create a model\n",
    "Create a model with environment file `../../.gotm_env.yaml`, which is created by `gotm_env_init.py`. "
   ]
  },
  {
   "cell_type": "code",
   "execution_count": null,
   "metadata": {},
   "outputs": [],
   "source": [
    "m = Model(name='Entrainment-LF17', environ='../../.gotm_env.yaml')"
   ]
  },
  {
   "cell_type": "markdown",
   "metadata": {},
   "source": [
    "Take a look at what are defined in the environment file."
   ]
  },
  {
   "cell_type": "code",
   "execution_count": null,
   "metadata": {},
   "outputs": [],
   "source": [
    "for key in m.environ:\n",
    "    print('{:>15s}: {}'.format(key, m.environ[key]) )"
   ]
  },
  {
   "cell_type": "markdown",
   "metadata": {},
   "source": [
    "## Build the model"
   ]
  },
  {
   "cell_type": "code",
   "execution_count": null,
   "metadata": {},
   "outputs": [],
   "source": [
    "%%time\n",
    "m.build()"
   ]
  },
  {
   "cell_type": "markdown",
   "metadata": {},
   "source": [
    "## Configuration\n",
    "Initialize the GOTM configuration"
   ]
  },
  {
   "cell_type": "code",
   "execution_count": null,
   "metadata": {},
   "outputs": [],
   "source": [
    "cfg = m.init_config()"
   ]
  },
  {
   "cell_type": "markdown",
   "metadata": {},
   "source": [
    "Update the configuration"
   ]
  },
  {
   "cell_type": "code",
   "execution_count": null,
   "metadata": {},
   "outputs": [],
   "source": [
    "# setup\n",
    "title = 'Entrainment - LF17'\n",
    "nlev = 256\n",
    "depth = 163.84\n",
    "cfg['title'] = title\n",
    "cfg['location']['name'] = 'OSMOSIS'\n",
    "cfg['location']['latitude'] = 45.0\n",
    "cfg['location']['longitude'] = 0.0\n",
    "cfg['location']['depth'] = depth\n",
    "cfg['time']['start'] = '2000-01-01 00:00:00'\n",
    "cfg['time']['stop']  = '2000-01-03 00:00:00'\n",
    "cfg['time']['dt']    = 60.0\n",
    "cfg['grid']['nlev']  = nlev\n",
    "\n",
    "# output\n",
    "cfg['output'] = {}\n",
    "cfg['output']['gotm_out'] = {}\n",
    "cfg['output']['gotm_out']['use'] = True\n",
    "cfg['output']['gotm_out']['title'] = title\n",
    "cfg['output']['gotm_out']['k1_stop'] = nlev+1\n",
    "cfg['output']['gotm_out']['k_stop'] = nlev\n",
    "cfg['output']['gotm_out']['time_unit'] = 'dt'\n",
    "cfg['output']['gotm_out']['time_step'] = 15\n",
    "cfg['output']['gotm_out']['variables'] = [{}]\n",
    "cfg['output']['gotm_out']['variables'][0]['source'] = '*'\n",
    "\n",
    "# forcing\n",
    "datadir = m.environ['gotmdir_data']+'/examples/Entrainment-LF17'\n",
    "cfg['temperature']['method'] = 'file'\n",
    "cfg['temperature']['file'] = datadir+'/t_prof.dat'\n",
    "cfg['salinity']['method'] = 'file'\n",
    "cfg['salinity']['file'] = datadir+'/s_prof.dat'\n",
    "cfg['surface']['fluxes']['heat']['method'] = 'constant'\n",
    "cfg['surface']['fluxes']['tx']['method'] = 'constant'\n",
    "cfg['surface']['fluxes']['ty']['method'] = 'constant'\n",
    "cfg['surface']['swr']['method'] = 'constant'\n",
    "cfg['surface']['precip']['method'] = 'constant'\n",
    "cfg['waves']['stokes_drift']['us']['method'] = 'file'\n",
    "cfg['waves']['stokes_drift']['vs']['method'] = 'file'\n",
    "cfg['waves']['stokes_drift']['us']['file'] = 'us_prof.dat'\n",
    "cfg['waves']['stokes_drift']['us']['column'] = 1\n",
    "cfg['waves']['stokes_drift']['vs']['file'] = 'us_prof.dat'\n",
    "cfg['waves']['stokes_drift']['vs']['column'] = 2\n",
    "\n",
    "# EOS -- use linear\n",
    "cfg['equation_of_state']['method'] = 'linear_custom'\n",
    "cfg['equation_of_state']['linear']['T0'] = 12.0\n",
    "cfg['equation_of_state']['linear']['S0'] = 35.0\n",
    "cfg['equation_of_state']['linear']['alpha'] = 2e-4\n",
    "cfg['equation_of_state']['linear']['beta'] = 7.5e-4\n",
    "cfg['equation_of_state']['rho0'] = 1000.0\n"
   ]
  },
  {
   "cell_type": "markdown",
   "metadata": {},
   "source": [
    "## Set the turbulence methods\n",
    "- GLS-C01A: the generic length scale (GLS; [Umlauf and Burchard, 2003](https://doi.org/10.1357/002224003322005087)) model in the $k$-$\\epsilon$ formulation with the weak-equilibrium stability function by [Canuto et al., 2001](https://doi.org/10.1175/1520-0485(2001)031%3C1413:OTPIOP%3E2.0.CO;2) (C01A).\n",
    "- KPP-CVMix: KPP implementation in CVMix ([Large et al., 1994](https://doi.org/10.1029/94RG01872), [Griffies et al., 2015](https://github.com/CVMix/CVMix-description/raw/master/cvmix.pdf))\n",
    "- KPPLT-VR12: KPP with Langmuir mixing ([Li et al., 2016](https://doi.org/10.1016%2Fj.ocemod.2015.07.020))\n",
    "- KPPLT-LF17: KPP with Lanmguir turbulence enhanced entrainment ([Li and Fox-Kemper, 2017](https://doi.org/10.1175%2FJPO-D-17-0085.1))"
   ]
  },
  {
   "cell_type": "code",
   "execution_count": null,
   "metadata": {},
   "outputs": [],
   "source": [
    "turbmethods = [\n",
    "    'GLS-C01A',\n",
    "    'KPP-CVMix',\n",
    "    'KPPLT-VR12',\n",
    "    'KPPLT-LF17',\n",
    "    ]"
   ]
  },
  {
   "cell_type": "markdown",
   "metadata": {},
   "source": [
    "## Create a list of configurations"
   ]
  },
  {
   "cell_type": "code",
   "execution_count": null,
   "metadata": {},
   "outputs": [],
   "source": [
    "# heat flux (W/m^2)                                                                                                                                                               \n",
    "heatflux = {'BF05':   -5.0, 'BF10':  -10.0, 'BF25':  -25.0, 'BF50': -50.0,\n",
    "            'BF1h': -100.0, 'BF2h': -200.0, 'BF3h': -300.0, 'BF5h':-500.0}\n",
    "\n",
    "# 10-meter wind (m/s)\n",
    "u10  = {'WD05':   5.0, 'WD08':     8.0, 'WD10':  10.0}\n",
    "v10  = {'WD05':   0.0, 'WD08':     0.0, 'WD10':   0.0}\n",
    "taux = {'WD05': 0.036, 'WD08': 0.09216, 'WD10': 0.144}\n",
    "tauy = {'WD05':   0.0, 'WD08':     0.0, 'WD10':   0.0}\n",
    "\n",
    "# wave age (unitless)\n",
    "wave_age = {'WV00': 1.2, 'WV01': 1.2, 'WV02': 1.0, 'WV03': 0.8, 'WV04': 0.6}\n",
    "\n",
    "# LF17 case list\n",
    "cases = [\n",
    "    'BF05WD05WV00',                                                                                                                                                                    \n",
    "    'BF05WD05WV01',\n",
    "    'BF05WD05WV02',\n",
    "    'BF05WD05WV03',\n",
    "    'BF05WD05WV04',\n",
    "    'BF05WD08WV00',\n",
    "    'BF05WD08WV01',\n",
    "    'BF05WD08WV02',\n",
    "    'BF05WD08WV03',\n",
    "    'BF05WD08WV04',\n",
    "    'BF05WD10WV00',\n",
    "    'BF05WD10WV01',\n",
    "    'BF05WD10WV02',\n",
    "    'BF05WD10WV03',\n",
    "    'BF05WD10WV04',\n",
    "    'BF10WD05WV00',\n",
    "    'BF10WD05WV01',\n",
    "    'BF10WD05WV03',\n",
    "    'BF1hWD05WV00',\n",
    "    'BF1hWD05WV01',\n",
    "    'BF1hWD05WV03',\n",
    "    'BF1hWD08WV00',\n",
    "    'BF1hWD08WV01',\n",
    "    'BF1hWD08WV03',\n",
    "    'BF1hWD10WV00',\n",
    "    'BF1hWD10WV01',\n",
    "    'BF1hWD10WV03',\n",
    "    'BF25WD05WV00',\n",
    "    'BF25WD05WV01',\n",
    "    'BF25WD05WV03',\n",
    "    'BF25WD08WV00',\n",
    "    'BF25WD08WV01',\n",
    "    'BF25WD08WV03',\n",
    "    'BF25WD10WV00',\n",
    "    'BF25WD10WV01',\n",
    "    'BF25WD10WV03',\n",
    "    'BF2hWD05WV00',\n",
    "    'BF2hWD05WV01',\n",
    "    'BF2hWD05WV03',\n",
    "    'BF3hWD05WV00',\n",
    "    'BF3hWD05WV01',\n",
    "    'BF3hWD05WV03',\n",
    "    'BF50WD05WV00',\n",
    "    'BF50WD05WV01',\n",
    "    'BF50WD05WV03',\n",
    "    'BF50WD08WV00',\n",
    "    'BF50WD08WV01',\n",
    "    'BF50WD08WV03',\n",
    "    'BF50WD10WV00',\n",
    "    'BF50WD10WV01',\n",
    "    'BF50WD10WV03',\n",
    "    'BF5hWD05WV00',\n",
    "    'BF5hWD05WV01',\n",
    "    'BF5hWD05WV03',\n",
    "    ]"
   ]
  },
  {
   "cell_type": "markdown",
   "metadata": {},
   "source": [
    "Set the depth and time for `stokes_drift_dhh85()` and `dat_dump_pfl()`. The former computes Stokes drift using the [Donelan et al., 1985](https://doi.org/10.1098/rsta.1979.0079) spectrum, and the latter write profile data in the GOTM input format."
   ]
  },
  {
   "cell_type": "code",
   "execution_count": null,
   "metadata": {},
   "outputs": [],
   "source": [
    "dz = depth/nlev\n",
    "z = np.linspace(-0.5*dz, -depth+0.5*dz, nlev)\n",
    "time =  pd.date_range(cfg['time']['start'], freq='D', periods=1)\n",
    "nt = len(time)"
   ]
  },
  {
   "cell_type": "code",
   "execution_count": null,
   "metadata": {},
   "outputs": [],
   "source": [
    "cfgs = []\n",
    "labels = []\n",
    "for i, casename in enumerate(cases):\n",
    "    print(casename)\n",
    "    # set surface fluxes\n",
    "    heatflux_label = casename[:4]\n",
    "    wind_label = casename[4:8]\n",
    "    wave_label = casename[8:]\n",
    "    wind_speed = np.sqrt(u10[wind_label]**2+v10[wind_label]**2)\n",
    "    cfg['surface']['fluxes']['heat']['constant_value'] = heatflux[heatflux_label]\n",
    "    cfg['surface']['fluxes']['tx']['constant_value'] = taux[wind_label]\n",
    "    cfg['surface']['fluxes']['ty']['constant_value'] = tauy[wind_label]\n",
    "    # compute Stokes drift\n",
    "    xcomp = u10[wind_label]/wind_speed\n",
    "    ycomp = v10[wind_label]/wind_speed\n",
    "    stokes_drift = stokes_drift_dhh85(z, wind_speed, wave_age[wave_label])\n",
    "    us_arr = np.tile(stokes_drift, (nt,1)) * xcomp\n",
    "    vs_arr = np.tile(stokes_drift, (nt,1)) * ycomp\n",
    "    # set turbulence methods\n",
    "    for turbmethod in turbmethods: \n",
    "        run_label = casename+'/'+turbmethod\n",
    "        labels.append(run_label)\n",
    "        run_dir = m.environ['gotmdir_run']+'/'+m.name+'/'+run_label\n",
    "        os.makedirs(run_dir, exist_ok=True)\n",
    "        dat_dump_pfl(time, z, [us_arr, vs_arr], run_dir+'/us_prof.dat')\n",
    "        if turbmethod == 'GLS-C01A':\n",
    "            cfg['turbulence']['turb_method'] = 'second_order'\n",
    "            cfg['turbulence']['tke_method'] = 'tke'\n",
    "            cfg['turbulence']['len_scale_method'] = 'gls'\n",
    "            cfg['turbulence']['scnd']['method'] =  'weak_eq_kb_eq'\n",
    "            cfg['turbulence']['scnd']['scnd_coeff'] =  'canuto-a'\n",
    "            cfg['turbulence']['turb_param']['length_lim'] = 'false'\n",
    "            cfg['turbulence']['turb_param']['compute_c3'] = 'true'\n",
    "            cfg['turbulence']['turb_param']['Ri_st'] = 0.25\n",
    "            cfg['turbulence']['generic']['gen_m'] = 1.5 \n",
    "            cfg['turbulence']['generic']['gen_n'] = -1.0\n",
    "            cfg['turbulence']['generic']['gen_p'] = 3.0 \n",
    "            cfg['turbulence']['generic']['cpsi1'] = 1.44\n",
    "            cfg['turbulence']['generic']['cpsi2'] = 1.92\n",
    "            cfg['turbulence']['generic']['cpsi3minus'] = -0.63\n",
    "            cfg['turbulence']['generic']['cpsi3plus'] = 1.0 \n",
    "            cfg['turbulence']['generic']['sig_kpsi'] = 1.0 \n",
    "            cfg['turbulence']['generic']['sig_psi'] = 1.3\n",
    "        elif turbmethod == 'KPP-CVMix':\n",
    "            cfg['turbulence']['turb_method'] = 'cvmix'\n",
    "            cfg['cvmix']['surface_layer']['kpp']['langmuir_method'] = 'none'\n",
    "        elif turbmethod == 'KPPLT-VR12':\n",
    "            cfg['turbulence']['turb_method'] = 'cvmix'\n",
    "            cfg['cvmix']['surface_layer']['kpp']['langmuir_method'] = 'lwf16'\n",
    "        elif turbmethod == 'KPPLT-LF17':\n",
    "            cfg['turbulence']['turb_method'] = 'cvmix'\n",
    "            cfg['cvmix']['surface_layer']['kpp']['langmuir_method'] = 'lf17'\n",
    "        else:\n",
    "            raise ValueError('Turbulence closure method \\'{}\\' not defined.'.format(turbmethod))\n",
    "        cfgs.append(copy.deepcopy(cfg))"
   ]
  },
  {
   "cell_type": "markdown",
   "metadata": {},
   "source": [
    "## Run the model"
   ]
  },
  {
   "cell_type": "code",
   "execution_count": null,
   "metadata": {},
   "outputs": [],
   "source": [
    "%%time\n",
    "sims = m.run_batch(configs=cfgs, labels=labels, nproc=16)"
   ]
  }
 ],
 "metadata": {
  "kernelspec": {
   "display_name": "Python 3",
   "language": "python",
   "name": "python3"
  },
  "language_info": {
   "codemirror_mode": {
    "name": "ipython",
    "version": 3
   },
   "file_extension": ".py",
   "mimetype": "text/x-python",
   "name": "python",
   "nbconvert_exporter": "python",
   "pygments_lexer": "ipython3",
   "version": "3.9.15"
  }
 },
 "nbformat": 4,
 "nbformat_minor": 4
}
