{
 "cells": [
  {
   "cell_type": "markdown",
   "metadata": {},
   "source": [
    "# Langmuir-enhanced entrainment\n",
    "\n",
    "This notebook reproduces Fig. 15 of [Li et al., 2019](https://doi.org/10.1029/2019MS001810)."
   ]
  },
  {
   "cell_type": "code",
   "execution_count": null,
   "metadata": {},
   "outputs": [],
   "source": [
    "import sys\n",
    "import numpy as np\n",
    "from scipy import stats\n",
    "import matplotlib.pyplot as plt                                                                                        \n",
    "from matplotlib import cm\n",
    "from mpl_toolkits.axes_grid1.inset_locator import inset_axes\n",
    "sys.path.append(\"../../../gotmtool\")\n",
    "from gotmtool import *"
   ]
  },
  {
   "cell_type": "code",
   "execution_count": null,
   "metadata": {},
   "outputs": [],
   "source": [
    "def plot_hLL_dpedt(hLL, dpedt, casename_list, ax=None, xlabel_on=True):\n",
    "    if ax is None:                                                                                                     \n",
    "        ax = plt.gca()\n",
    "    idx_WD05 = [('WD05' in casename) for casename in casename_list]\n",
    "    idx_WD08 = [('WD08' in casename) for casename in casename_list]\n",
    "    idx_WD10 = [('WD10' in casename) for casename in casename_list]\n",
    "    b0_str = [casename[2:4] for casename in casename_list]\n",
    "    b0 = np.array([float(tmp[0])*100 if 'h' in tmp else float(tmp) for tmp in b0_str])\n",
    "    b0_min = b0.min()\n",
    "    b0_max = b0.max()\n",
    "    ax.plot(hLL, dpedt, color='k', linewidth=1, linestyle=':', zorder=1)\n",
    "    im = ax.scatter(hLL[idx_WD05], dpedt[idx_WD05], c=b0[idx_WD05], marker='d', edgecolors='k',\n",
    "               linewidth=1, zorder=2, label='$U_{10}=5$ m s$^{-1}$', cmap='bone_r', vmin=b0_min, vmax=b0_max)\n",
    "    ax.scatter(hLL[idx_WD08], dpedt[idx_WD08], c=b0[idx_WD08], marker='s', edgecolors='k',\n",
    "               linewidth=1, zorder=2, label='$U_{10}=8$ m s$^{-1}$', cmap='bone_r', vmin=b0_min, vmax=b0_max)\n",
    "    ax.scatter(hLL[idx_WD10], dpedt[idx_WD10], c=b0[idx_WD10], marker='^', edgecolors='k',\n",
    "               linewidth=1, zorder=2, label='$U_{10}=10$ m s$^{-1}$', cmap='bone_r', vmin=b0_min, vmax=b0_max)\n",
    "    ax.legend(loc='upper left')\n",
    "    # add colorbar\n",
    "    ax_inset = inset_axes(ax, width=\"30%\", height=\"3%\", loc='lower right',\n",
    "                          bbox_to_anchor=(-0.05, 0.1, 1, 1),\n",
    "                          bbox_transform=ax.transAxes,\n",
    "                          borderpad=0,)\n",
    "    cb = plt.colorbar(im, cax=ax_inset, orientation='horizontal', shrink=0.35,\n",
    "                     ticks=[5, 100, 300, 500])\n",
    "    cb.ax.set_xticklabels(['-5','-100','-300','-500'])\n",
    "    ax.text(0.75, 0.2, '$Q_0$ (W m$^{-2}$)', color='black', transform=ax.transAxes,\n",
    "             fontsize=10, va='top', ha='left')\n",
    "    # get axes ratio\n",
    "    ll, ur = ax.get_position() * plt.gcf().get_size_inches()\n",
    "    width, height = ur - ll\n",
    "    axes_ratio = height / width\n",
    "    # add arrow and label\n",
    "    add_arrow(ax, 0.6, 0.2, 0.3, 0.48, axes_ratio, color='gray', text='Increasing Convection')\n",
    "    add_arrow(ax, 0.3, 0.25, -0.2, 0.1, axes_ratio, color='black', text='Increasing Langmuir')\n",
    "    add_arrow(ax, 0.65, 0.75, -0.25, 0.01, axes_ratio, color='black', text='Increasing Langmuir')\n",
    "    ax.set_xscale('log')\n",
    "    ax.set_yscale('log')\n",
    "    if xlabel_on:\n",
    "        ax.set_xlabel('$h/\\kappa L$', fontsize=14)\n",
    "    ax.set_ylabel('$d\\mathrm{PE}/dt$', fontsize=14)\n",
    "    ax.set_xlim([3e-3, 4e1])\n",
    "    ax.set_ylim([2e-4, 5e-2])\n",
    "    # set the tick labels font\n",
    "    for label in (ax.get_xticklabels() + ax.get_yticklabels()):\n",
    "        label.set_fontsize(14)\n",
    "\n",
    "def plot_hLL_R(hLL, R, colors, legend_list, ax=None, xlabel_on=True):\n",
    "    if ax is None:                                                                                                     \n",
    "        ax = plt.gca()\n",
    "    ax.axhline(y=1, linewidth=1, color='black')\n",
    "    nm = R.shape[0]\n",
    "    for i in np.arange(nm):\n",
    "        ax.scatter(hLL, R[i,:], color=colors[i], edgecolors='k', linewidth=0.5, zorder=10)\n",
    "    ax.set_xscale('log')\n",
    "    ax.set_xlim([3e-3, 4e1])\n",
    "    if xlabel_on:\n",
    "        ax.set_xlabel('$h/L_L$', fontsize=14)\n",
    "    ax.set_ylabel('$R$', fontsize=14)\n",
    "    # set the tick labels font\n",
    "    for label in (ax.get_xticklabels() + ax.get_yticklabels()):\n",
    "        label.set_fontsize(14)\n",
    "    # legend\n",
    "    if nm > 1:\n",
    "        xshift = 0.2 + 0.05*(11-nm)\n",
    "        xx = np.arange(nm)+1\n",
    "        xx = xx*0.06+xshift\n",
    "        yy = np.ones(xx.size)*0.1\n",
    "        for i in np.arange(nm):\n",
    "            ax.text(xx[i], yy[i], legend_list[i], color='black', transform=ax.transAxes,\n",
    "                     fontsize=12, rotation=45, va='bottom', ha='left')\n",
    "            ax.scatter(xx[i], 0.07, s=60, color=colors[i], edgecolors='k', linewidth=1, transform=ax.transAxes)\n",
    "\n",
    "def add_arrow(ax, x, y, dx, dy, axes_ratio, color='black', text=None):\n",
    "    ax.arrow(x, y, dx, dy, width=0.006, color=color, transform=ax.transAxes)\n",
    "    if text is not None:\n",
    "        dl = np.sqrt(dx**2+dy**2)\n",
    "        xx = x + 0.5*dx + dy/dl*0.06\n",
    "        yy = y + 0.5*dy - dx/dl*0.06\n",
    "        angle = np.degrees(np.arctan(dy/dx*axes_ratio))\n",
    "        ax.text(xx, yy, text, color=color, transform=ax.transAxes, fontsize=11,\n",
    "                rotation=angle, va='center', ha='center')"
   ]
  },
  {
   "cell_type": "markdown",
   "metadata": {},
   "source": [
    "### Load LF17 data"
   ]
  },
  {
   "cell_type": "code",
   "execution_count": null,
   "metadata": {},
   "outputs": [],
   "source": [
    "# load LF17 data\n",
    "lf17_data = np.load('LF17_dPEdt.npz')\n",
    "us0    = lf17_data['us0']\n",
    "b0     = lf17_data['b0']\n",
    "ustar  = lf17_data['ustar']\n",
    "hb     = lf17_data['hb']\n",
    "dpedt  = lf17_data['dpedt']\n",
    "casenames = lf17_data['casenames']\n",
    "ncase = len(casenames)\n",
    "\n",
    "# get parameter h/L_L= w*^3/u*^2/u^s(0)\n",
    "inds = us0==0\n",
    "us0[inds] = np.nan\n",
    "hLL = b0*hb/ustar**2/us0"
   ]
  },
  {
   "cell_type": "markdown",
   "metadata": {},
   "source": [
    "### Compute the rate of change in potential energy in GOTM runs"
   ]
  },
  {
   "cell_type": "code",
   "execution_count": null,
   "metadata": {},
   "outputs": [],
   "source": [
    "turbmethods = [\n",
    "    'GLS-C01A',\n",
    "    'KPP-CVMix',\n",
    "    'KPPLT-VR12',\n",
    "    'KPPLT-LF17',\n",
    "    ]\n",
    "ntm = len(turbmethods)\n",
    "cmap = cm.get_cmap('rainbow')\n",
    "if ntm == 1:\n",
    "    colors = ['gray']\n",
    "else:\n",
    "    colors = cmap(np.linspace(0,1,ntm))\n"
   ]
  },
  {
   "cell_type": "code",
   "execution_count": null,
   "metadata": {},
   "outputs": [],
   "source": [
    "m = Model(name='Entrainment-LF17', environ='../../.gotm_env.yaml')\n",
    "gotmdir = m.environ['gotmdir_run']+'/'+m.name\n",
    "print(gotmdir)"
   ]
  },
  {
   "cell_type": "code",
   "execution_count": null,
   "metadata": {},
   "outputs": [],
   "source": [
    "# Coriolis parameter (s^{-1})\n",
    "f = 4*np.pi/86400*np.sin(np.pi/4)\n",
    "# Inertial period (s)\n",
    "Ti = 2*np.pi/f\n",
    "# get dPEdt from GOTM run\n",
    "rdpedt = np.zeros([ntm, ncase])\n",
    "for i in np.arange(ntm):\n",
    "    print(turbmethods[i])\n",
    "    for j in np.arange(ncase):\n",
    "        sim = Simulation(path=gotmdir+'/'+casenames[j]+'/'+turbmethods[i])\n",
    "        var_gotm = sim.load_data().Epot\n",
    "        epot_gotm = var_gotm.data.squeeze()\n",
    "        dtime = var_gotm.time - var_gotm.time[0]\n",
    "        time_gotm = (dtime.dt.days*86400.+dtime.dt.seconds).data\n",
    "        # starting index for the last inertial period\n",
    "        t0_gotm = time_gotm[-1]-Ti\n",
    "        tidx0_gotm = np.argmin(np.abs(time_gotm-t0_gotm))\n",
    "        # linear fit\n",
    "        xx_gotm = time_gotm[tidx0_gotm:]-time_gotm[tidx0_gotm]\n",
    "        yy_gotm = epot_gotm[tidx0_gotm:]-epot_gotm[tidx0_gotm]\n",
    "        slope_gotm, intercept_gotm, r_value_gotm, p_value_gotm, std_err_gotm = stats.linregress(xx_gotm,yy_gotm)\n",
    "        rdpedt[i,j] = slope_gotm/dpedt[j]"
   ]
  },
  {
   "cell_type": "code",
   "execution_count": null,
   "metadata": {},
   "outputs": [],
   "source": [
    "fig, axarr = plt.subplots(2, 1, sharex='col')\n",
    "fig.set_size_inches(6, 7)\n",
    "plt.subplots_adjust(left=0.15, right=0.95, bottom=0.09, top=0.95, hspace=0.1)\n",
    "plot_hLL_dpedt(hLL, dpedt, casenames, ax=axarr[0])\n",
    "plot_hLL_R(hLL, rdpedt, colors, turbmethods, ax=axarr[1])\n",
    "axarr[0].text(0.04, 0.14, '(a)', color='black', transform=axarr[0].transAxes,\n",
    "             fontsize=14, va='top', ha='left')\n",
    "axarr[1].text(0.88, 0.94, '(b)', color='black', transform=axarr[1].transAxes,\n",
    "             fontsize=14, va='top', ha='left')"
   ]
  }
 ],
 "metadata": {
  "kernelspec": {
   "display_name": "Python 3",
   "language": "python",
   "name": "python3"
  },
  "language_info": {
   "codemirror_mode": {
    "name": "ipython",
    "version": 3
   },
   "file_extension": ".py",
   "mimetype": "text/x-python",
   "name": "python",
   "nbconvert_exporter": "python",
   "pygments_lexer": "ipython3",
   "version": "3.9.15"
  }
 },
 "nbformat": 4,
 "nbformat_minor": 4
}
