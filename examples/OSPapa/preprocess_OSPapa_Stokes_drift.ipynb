{
 "cells": [
  {
   "cell_type": "markdown",
   "metadata": {},
   "source": [
    "# Stokes drift at ocean station Papa\n",
    "\n",
    "This notebook computes Stokes drift from wave spectrum measured at the ocean station Papa. The wave buoy data is obtained from the [Coastal Data Information Program (CDIP)](http://cdip.ucsd.edu/themes/cdip?pb=1&u2=s:166:st:1&d2=p9) [data archive](http://thredds.cdip.ucsd.edu/thredds/catalog/cdip/archive/166p1/catalog.html).\n",
    "\n",
    "Computing Stokes drift for one year at about 30 minutes interval takes about 10 min on a 2017 MacBook Pro."
   ]
  },
  {
   "cell_type": "code",
   "execution_count": null,
   "metadata": {},
   "outputs": [],
   "source": [
    "import sys\n",
    "import os\n",
    "import numpy as np\n",
    "import xarray as xr\n",
    "import pandas as pd\n",
    "sys.path.append(\"../../../gotmtool\")\n",
    "from gotmtool import *\n",
    "from gotmtool.stokesdrift import stokes_drift_spec"
   ]
  },
  {
   "cell_type": "markdown",
   "metadata": {},
   "source": [
    "### Load data"
   ]
  },
  {
   "cell_type": "code",
   "execution_count": null,
   "metadata": {},
   "outputs": [],
   "source": [
    "paparoot = os.environ['HOME']+'/data/CDIP/Papa'\n",
    "wavedata = '166p1_historic.nc'\n",
    "ds = xr.load_dataset(paparoot+'/'+wavedata)"
   ]
  },
  {
   "cell_type": "markdown",
   "metadata": {},
   "source": [
    "Select a subset of the data"
   ]
  },
  {
   "cell_type": "code",
   "execution_count": null,
   "metadata": {},
   "outputs": [],
   "source": [
    "startdate = '2012-03-20'\n",
    "enddate = '2013-03-22'\n",
    "dss = ds.sel(waveTime=slice(startdate, enddate))"
   ]
  },
  {
   "cell_type": "code",
   "execution_count": null,
   "metadata": {},
   "outputs": [],
   "source": [
    "# time\n",
    "time = dss.waveTime.values\n",
    "# band center frequency\n",
    "freq = dss.waveFrequency.values\n",
    "# frequency bandwidth\n",
    "dfreq = dss.waveBandwidth.values\n",
    "# band energy density\n",
    "spec = dss.waveEnergyDensity.values\n",
    "# band mean direction that wave is coming from, in degree clockwise from the North\n",
    "mdir = dss.waveMeanDirection.values\n",
    "# angle in degree counterclockwise from the East\n",
    "theta = -90.0-mdir\n",
    "d2r = np.pi/180.0\n",
    "xcmp = np.cos(theta*d2r)\n",
    "ycmp = np.sin(theta*d2r)"
   ]
  },
  {
   "cell_type": "markdown",
   "metadata": {},
   "source": [
    "### Vertical grid"
   ]
  },
  {
   "cell_type": "code",
   "execution_count": null,
   "metadata": {},
   "outputs": [],
   "source": [
    "z1 = -np.linspace(0.5, 35.5, 36)\n",
    "z2 = -np.linspace(40, 200, 17)\n",
    "z = np.concatenate((z1,z2))"
   ]
  },
  {
   "cell_type": "markdown",
   "metadata": {},
   "source": [
    "### Compute Stokes drift"
   ]
  },
  {
   "cell_type": "code",
   "execution_count": null,
   "metadata": {},
   "outputs": [],
   "source": [
    "%%time\n",
    "ntime = time.size\n",
    "nz = z.size\n",
    "us = np.zeros([ntime, nz])\n",
    "vs = np.zeros([ntime, nz])\n",
    "us_t = np.zeros([ntime, nz])\n",
    "vs_t = np.zeros([ntime, nz])\n",
    "for i in np.arange(ntime):\n",
    "    us[i,:], vs[i,:] = stokes_drift_spec(z, spec[i,:], xcmp[i,:], ycmp[i,:], freq, dfreq)"
   ]
  },
  {
   "cell_type": "markdown",
   "metadata": {},
   "source": [
    "### Convert time from `numpy.datetime64` to `datetime.datetime`"
   ]
  },
  {
   "cell_type": "code",
   "execution_count": null,
   "metadata": {},
   "outputs": [],
   "source": [
    "dttime = [pd.Timestamp(time[i]).to_pydatetime() for i in np.arange(ntime)]"
   ]
  },
  {
   "cell_type": "markdown",
   "metadata": {},
   "source": [
    "### Save Stokes drift to file"
   ]
  },
  {
   "cell_type": "code",
   "execution_count": null,
   "metadata": {},
   "outputs": [],
   "source": [
    "dat_dump_pfl(dttime, z, [us, vs], 'us_prof.dat')"
   ]
  }
 ],
 "metadata": {
  "kernelspec": {
   "display_name": "Python 3",
   "language": "python",
   "name": "python3"
  },
  "language_info": {
   "codemirror_mode": {
    "name": "ipython",
    "version": 3
   },
   "file_extension": ".py",
   "mimetype": "text/x-python",
   "name": "python",
   "nbconvert_exporter": "python",
   "pygments_lexer": "ipython3",
   "version": "3.9.1rc1"
  }
 },
 "nbformat": 4,
 "nbformat_minor": 4
}
