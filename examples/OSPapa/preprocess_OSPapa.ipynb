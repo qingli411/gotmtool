{
 "cells": [
  {
   "cell_type": "markdown",
   "metadata": {},
   "source": [
    "# Temperature, salinity and surface forcing at ocean station Papa\n",
    "\n",
    "This notebook converts the temperature and salinity profiles and the surface forcing data at the ocean station Papa from `netCDF` to `.dat` files. The `netCDF` data is obtained from the [NOAA PMEL](https://www.pmel.noaa.gov/ocs/Papa) [data archive](https://www.pmel.noaa.gov/ocs/data/disdel/)."
   ]
  },
  {
   "cell_type": "code",
   "execution_count": null,
   "metadata": {},
   "outputs": [],
   "source": [
    "import sys\n",
    "import os\n",
    "import numpy as np\n",
    "import xarray as xr\n",
    "import pandas as pd\n",
    "import xml.etree.ElementTree as et\n",
    "sys.path.append(\"../../../gotmtool\")\n",
    "from gotmtool import *"
   ]
  },
  {
   "cell_type": "markdown",
   "metadata": {},
   "source": [
    "### Preprocess data\n",
    "\n",
    "Select a subset of the data"
   ]
  },
  {
   "cell_type": "code",
   "execution_count": null,
   "metadata": {},
   "outputs": [],
   "source": [
    "paparoot = os.environ['HOME']+'/data/OCS/Papa/Papa_20100616-20150101'\n",
    "startdate = '2012-03-20'\n",
    "enddate = '2013-03-22'"
   ]
  },
  {
   "cell_type": "markdown",
   "metadata": {},
   "source": [
    "File `OSPapa.xml` contains the information of different variables for conversion. Loop over all vairables, process and save the data."
   ]
  },
  {
   "cell_type": "code",
   "execution_count": null,
   "metadata": {},
   "outputs": [],
   "source": [
    "xmlfile = 'OSPapa.xml'\n",
    "tree = et.parse(xmlfile)\n",
    "root = tree.getroot()\n",
    "# loop over all variables\n",
    "for child in root:\n",
    "    # prepare input data\n",
    "    var   = child.attrib['name']\n",
    "    fname = child.find('filename').text\n",
    "    vtype = child.find('vartype').text\n",
    "    oname = child.find('outname').text\n",
    "    ds = xr.load_dataset(paparoot+'/'+fname).sel(time=slice(startdate, enddate))\n",
    "    time = ds.time.values\n",
    "    ntime = time.size\n",
    "    dttime = [pd.Timestamp(time[i]).to_pydatetime() for i in np.arange(ntime)]\n",
    "    depth = -np.abs(ds.depth.values)\n",
    "    ndepth = depth.size\n",
    "    if '_FillValue' in ds.attrs:\n",
    "        skipvalue = ds.attrs['_FillValue']\n",
    "    elif 'missing_value' in ds.attrs:\n",
    "        skipvalue = ds.attrs['missing_value']\n",
    "    else:\n",
    "        skipvalue = None\n",
    "    if vtype == 'scalar':\n",
    "        # scalar variable\n",
    "        vname = child.find('varname').text\n",
    "        data = ds.data_vars[vname].values.squeeze()\n",
    "        if ndepth == 1:\n",
    "            dat_dump_ts(dttime, [data], oname, skip_value=skipvalue)\n",
    "        else:\n",
    "            dat_dump_pfl(dttime, depth, [data], oname, skip_value=skipvalue)\n",
    "    elif vtype == 'vector':\n",
    "        # vector variable\n",
    "        vnamex = child.find('varnamex').text\n",
    "        vnamey = child.find('varnamey').text\n",
    "        datax = ds.data_vars[vnamex].values.squeeze()\n",
    "        datay = ds.data_vars[vnamey].values.squeeze()\n",
    "        if ndepth == 1:\n",
    "            dat_dump_ts(dttime, [datax, datay], oname, skip_value=skipvalue)\n",
    "        else:\n",
    "            dat_dump_pfl(dttime, depth, [datax, datay], oname, skip_value=skipvalue)"
   ]
  }
 ],
 "metadata": {
  "kernelspec": {
   "display_name": "Python 3",
   "language": "python",
   "name": "python3"
  },
  "language_info": {
   "codemirror_mode": {
    "name": "ipython",
    "version": 3
   },
   "file_extension": ".py",
   "mimetype": "text/x-python",
   "name": "python",
   "nbconvert_exporter": "python",
   "pygments_lexer": "ipython3",
   "version": "3.9.1rc1"
  }
 },
 "nbformat": 4,
 "nbformat_minor": 4
}
